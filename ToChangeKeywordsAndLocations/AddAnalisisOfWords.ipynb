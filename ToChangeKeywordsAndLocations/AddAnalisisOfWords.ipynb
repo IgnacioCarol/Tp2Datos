{
 "cells": [
  {
   "cell_type": "code",
   "execution_count": null,
   "metadata": {},
   "outputs": [],
   "source": [
    "import pandas as pd\n",
    "import numpy as np\n",
    "import seaborn as sns\n",
    "import matplotlib.pyplot as plt\n",
    "import re\n",
    "import nltk\n",
    "nltk.download() #Necessary to use this part of the code, DF should be exported afterwards so no need of this being used afterwards.\n",
    "tweets = pd.read_csv('withoutEncoding.csv')"
   ]
  },
  {
   "cell_type": "code",
   "execution_count": null,
   "metadata": {},
   "outputs": [],
   "source": [
    "s = \"<pre>\t1.\tCC\tCoordinating conjunction<br>\t2.\tCD\tCardinal number<br>\t3.\tDT\tDeterminer<br>\t4.\tEX\tExistential <em>there</em><br>\t5.\tFW\tForeign word<br>\t6.\tIN\tPreposition or subordinating conjunction<br>\t7.\tJJ\tAdjective<br>\t8.\tJJR\tAdjective, comparative<br>\t9.\tJJS\tAdjective, superlative<br>\t10.\tLS\tList item marker<br>\t11.\tMD\tModal<br>\t12.\tNN\tNoun, singular or mass<br>\t13.\tNNS\tNoun, plural<br>\t14.\tNNP\tProper noun, singular<br>\t15.\tNNPS\tProper noun, plural<br>\t16.\tPDT\tPredeterminer<br>\t17.\tPOS\tPossessive ending<br>\t18.\tPRP\tPersonal pronoun<br>\t19.\tPRP$\tPossessive pronoun<br>\t20.\tRB\tAdverb<br>\t21.\tRBR\tAdverb, comparative<br>\t22.\tRBS\tAdverb, superlative<br>\t23.\tRP\tParticle<br>\t24.\tSYM\tSymbol<br>\t25.\tTO\t<em>to</em><br>\t26.\tUH\tInterjection<br>\t27.\tVB\tVerb, base form<br>\t28.\tVBD\tVerb, past tense<br>\t29.\tVBG\tVerb, gerund or present participle<br>\t30.\tVBN\tVerb, past participle<br>\t31.\tVBP\tVerb, non-3rd person singular present<br>\t32.\tVBZ\tVerb, 3rd person singular present<br>\t33.\tWDT\tWh-determiner<br>\t34.\tWP\tWh-pronoun<br>\t35.\tWP$\tPossessive wh-pronoun<br>\t36.\tWRB\tWh-adverb<br></pre>\"\n",
    "#Extracted from https://cs.nyu.edu/grishman/jet/guide/PennPOS.html\n",
    "tags = set(re.findall(r\"\\t(\\w+)\\t\",s) + ['PRP$', 'WP$'])\n",
    "def getTags(text):\n",
    "    finalArray = []\n",
    "    possibleTags = nltk.pos_tag(nltk.TweetTokenizer().tokenize(text))\n",
    "    for word in possibleTags:\n",
    "        if word[1] in tags:\n",
    "            finalArray.append(word)\n",
    "    return finalArray"
   ]
  },
  {
   "cell_type": "code",
   "execution_count": null,
   "metadata": {},
   "outputs": [],
   "source": [
    "df = tweets['text'].apply(getTags)\n",
    "df = df.reset_index()\n",
    "df"
   ]
  },
  {
   "cell_type": "code",
   "execution_count": null,
   "metadata": {},
   "outputs": [],
   "source": [
    "def _isInCriteria(textToAnalize, criteriaArray):\n",
    "    for value in criteriaArray:\n",
    "        if textToAnalize.startswith(value):\n",
    "            return True\n",
    "    return False\n",
    "\n",
    "def keepOnlyCriteria(listWords, criteria = 'VB'):\n",
    "    newArray = []\n",
    "    for value in listWords:\n",
    "        if _isInCriteria(value[1], [criteria]):\n",
    "            newArray.append(value)\n",
    "    return newArray\n",
    "\n",
    "def excludeCriteria(listWords, criteria):\n",
    "    newArray = []\n",
    "    for value in listWords:\n",
    "        if (_isInCriteria(value[1], criteria)):\n",
    "            continue\n",
    "        newArray.append(value)\n",
    "    return newArray\n",
    "        "
   ]
  },
  {
   "cell_type": "code",
   "execution_count": null,
   "metadata": {},
   "outputs": [],
   "source": [
    "df['amountOfVerbs'] = df['text'].apply(keepOnlyCriteria).apply(len)\n",
    "df['amountOfPronouns'] = df['text'].apply(lambda x: len(keepOnlyCriteria(x, 'PR') + keepOnlyCriteria(x, 'WP')))\n",
    "df['amountOfNouns'] = df['text'].apply(lambda x: len(keepOnlyCriteria(x, 'NN')))\n",
    "df['amountOfAdjectives'] = df['text'].apply(lambda x: len(keepOnlyCriteria(x, 'JJ')))\n",
    "df['amountOfAdverbs'] = df['text'].apply(lambda x: len(keepOnlyCriteria(x, 'RB')))\n",
    "df['restOfWords'] = df['text'].apply(lambda x: len(excludeCriteria(x, ['RB', 'JJ', 'NN', 'PR', 'WP', 'VB'])))\n",
    "df['totalAmount'] = df['text'].apply(len)"
   ]
  },
  {
   "cell_type": "code",
   "execution_count": null,
   "metadata": {},
   "outputs": [],
   "source": [
    "finalDf = df.drop(['index', 'text'], axis=1)\n",
    "finalDf['id'] = tweets['id']\n",
    "finalDf.to_csv('wordCount.csv', index = False) "
   ]
  }
 ],
 "metadata": {
  "kernelspec": {
   "display_name": "Python 3",
   "language": "python",
   "name": "python3"
  },
  "language_info": {
   "codemirror_mode": {
    "name": "ipython",
    "version": 3
   },
   "file_extension": ".py",
   "mimetype": "text/x-python",
   "name": "python",
   "nbconvert_exporter": "python",
   "pygments_lexer": "ipython3",
   "version": "3.7.3"
  }
 },
 "nbformat": 4,
 "nbformat_minor": 2
}
