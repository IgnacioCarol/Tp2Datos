{
 "cells": [
  {
   "cell_type": "code",
   "execution_count": null,
   "metadata": {},
   "outputs": [],
   "source": [
    "import pandas as pd\n",
    "import numpy as np\n",
    "import seaborn as sns\n",
    "import matplotlib.pyplot as plt\n",
    "import re\n",
    "keywordSet = set()\n",
    "citiesSet = set()\n",
    "countriesSet = set()\n",
    "locationsSet = set()\n",
    "arrayWithMinorKeywords = set()\n",
    "arrayWithForbbidenKeys = ['news', 'mass']"
   ]
  },
  {
   "cell_type": "code",
   "execution_count": null,
   "metadata": {},
   "outputs": [],
   "source": [
    "def CorrectString(setWithPossibleKeywords, text, considerHashtag):\n",
    "    word = 'Unknown'\n",
    "    for each in setWithPossibleKeywords:\n",
    "        if (re.search('(^|\\s|#)' + re.escape(each) + '(?!\\S)' , text, re.IGNORECASE)):\n",
    "            word = each;\n",
    "            break\n",
    "    if (considerHashtag and word == 'Unknown'):\n",
    "        for each in text.split():\n",
    "            if (each.startswith('#')):\n",
    "                word = each.lstrip('#')\n",
    "    return word.lower()\n",
    "\n",
    "def isForbidden(string):\n",
    "    for word in arrayWithForbbidenKeys:\n",
    "        if word in string.lower():\n",
    "            return True\n",
    "    return False"
   ]
  },
  {
   "cell_type": "code",
   "execution_count": null,
   "metadata": {},
   "outputs": [],
   "source": [
    "def fixMissingFields(arrayWithSets, row, nameOfColumnWithParamMissing = 'keyword', nameOfPlaceWithText = 'text', useHashtag = True): \n",
    "    if (isinstance(row[nameOfColumnWithParamMissing], str)):\n",
    "        row[nameOfColumnWithParamMissing] = row[nameOfColumnWithParamMissing].lower().rstrip().lstrip().replace('%20', ' ')\n",
    "        return row\n",
    "    for i in range(len(arrayWithSets)):\n",
    "        startWritingUnknown = False\n",
    "        startUsingHashtag = False\n",
    "        if (i == len(arrayWithSets) - 1):\n",
    "            startWritingUnknown = True\n",
    "            startUsingHashtag = useHashtag\n",
    "        wordToPlace = CorrectString(arrayWithSets[i], row[nameOfPlaceWithText], startUsingHashtag)\n",
    "        if (wordToPlace != 'unknown' or startWritingUnknown):\n",
    "            row[nameOfColumnWithParamMissing] = wordToPlace\n",
    "            break\n",
    "    return row\n"
   ]
  },
  {
   "cell_type": "code",
   "execution_count": null,
   "metadata": {},
   "outputs": [],
   "source": [
    "def addToSet(nameOfSet, dataFrameRows, shouldCheckForbidden = False):\n",
    "    for each in dataFrameRows:\n",
    "        if (each == '' or each.isspace() or (shouldCheckForbidden and isForbidden(each))):\n",
    "            continue\n",
    "        nameOfSet.add(each.lower().replace('%20', ' ').lstrip().rstrip())"
   ]
  },
  {
   "cell_type": "code",
   "execution_count": null,
   "metadata": {},
   "outputs": [],
   "source": [
    "#Define the sets and texts\n",
    "tweets = pd.read_csv('train.csv')\n",
    "dfWithKeywords = tweets.dropna(subset=['keyword'])\n",
    "dfWithLocations = tweets.dropna(subset=['location'])\n",
    "locations = pd.read_csv('worldcities.csv', encoding = 'latin-1')\n",
    "addToSet(keywordSet, dfWithKeywords['keyword'])\n",
    "addToSet(locationsSet, dfWithLocations['location'], True)\n",
    "addToSet(citiesSet, locations['city'])\n",
    "addToSet(countriesSet, locations['country'])\n",
    "arrayWithSets = [locationsSet, citiesSet, countriesSet]\n",
    "locationsSet.remove('on')\n",
    "locationsSet.remove('in')\n",
    "l =[]\n",
    "for each in locationsSet:\n",
    "    if (len(each.strip('?')) < 2):\n",
    "        l.append(each)\n",
    "for each in l:\n",
    "    locationsSet.remove(each)\n",
    "for value in keywordSet:\n",
    "    for key in keywordSet:\n",
    "        if (value == key):\n",
    "            continue\n",
    "        if value in key:\n",
    "            arrayWithMinorKeywords.add(value)\n",
    "            break\n",
    "for value in arrayWithMinorKeywords:\n",
    "    keywordSet.remove(value)\n",
    "    "
   ]
  },
  {
   "cell_type": "code",
   "execution_count": null,
   "metadata": {},
   "outputs": [],
   "source": [
    "#Fix missing fields, the second part WILL take a long time, there is no going around that, maybe using vectorize would improve it, but is a major unnecesary refactor\n",
    "tweets = tweets.apply(lambda x: fixMissingFields([keywordSet, arrayWithMinorKeywords], x, useHashtag = False), axis = 1)\n",
    "tweets = tweets.apply(lambda x: fixMissingFields(arrayWithSets, x, 'location', 'text', False), axis = 1)"
   ]
  },
  {
   "cell_type": "code",
   "execution_count": null,
   "metadata": {},
   "outputs": [],
   "source": [
    "tweets['location'] = tweets['location'].apply(lambda x: x.lower().rstrip().lstrip().strip(','))\n",
    "tweets.to_csv('withoutEncoding.csv', index = False) #Used to save a csv with that name at the folder where this file is"
   ]
  }
 ],
 "metadata": {
  "kernelspec": {
   "display_name": "Python 3",
   "language": "python",
   "name": "python3"
  },
  "language_info": {
   "codemirror_mode": {
    "name": "ipython",
    "version": 3
   },
   "file_extension": ".py",
   "mimetype": "text/x-python",
   "name": "python",
   "nbconvert_exporter": "python",
   "pygments_lexer": "ipython3",
   "version": "3.7.3"
  }
 },
 "nbformat": 4,
 "nbformat_minor": 2
}
