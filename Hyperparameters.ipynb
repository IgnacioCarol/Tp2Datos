{
 "cells": [
  {
   "cell_type": "code",
   "execution_count": 4,
   "metadata": {},
   "outputs": [],
   "source": [
    "#Libraries for data manipulation\n",
    "import pandas as pd\n",
    "import numpy as np\n",
    "\n",
    "#Library for splitting data\n",
    "from sklearn.model_selection import train_test_split \n",
    "\n",
    "#Libraries for hyperparameter tuning\n",
    "from sklearn.model_selection import GridSearchCV\n",
    "from sklearn.model_selection import RandomizedSearchCV"
   ]
  },
  {
   "cell_type": "code",
   "execution_count": 3,
   "metadata": {},
   "outputs": [],
   "source": [
    "#Searchs for the best hyperparameters using Grid Search\n",
    "def findHyperparametersGS(x, y, model, param_grid, cv):\n",
    "    xTrain, xTest, yTrain, yTest = train_test_split(x, y, test_size = 0.25, random_state = 42, cv = cv)\n",
    "    grid = GridSearchCV(estimator = model, param_grid = param_grid, scoring = 'roc_auc')\n",
    "    grid.fit(xTrain, yTrain)\n",
    "    return grid.best_params_"
   ]
  },
  {
   "cell_type": "code",
   "execution_count": null,
   "metadata": {},
   "outputs": [],
   "source": [
    "#Searchs for the best hyperparameters using Randomized Search\n",
    "def findHyperparametersRS(x, y, model, param_grid, n_iter):\n",
    "    xTrain, xTest, yTrain, yTest = train_test_split(x, y, test_size = 0.25, random_state = 42)\n",
    "    grid = RandomizedSearchCV(estimator = model, params_grid, n_iter = n_iter, scoring='roc_auc')\n",
    "    grid.fit(xTrain, yTrain)\n",
    "    return grid.best_params_"
   ]
  },
  {
   "cell_type": "markdown",
   "metadata": {},
   "source": [
    "## Random forest"
   ]
  },
  {
   "cell_type": "code",
   "execution_count": null,
   "metadata": {},
   "outputs": [],
   "source": [
    "param_grid = { \n",
    "    'n_estimators': [100, 300, 500, 800, 1200],\n",
    "    'max_depth' : [5, 8, 15, 25, 30],\n",
    "    'min_samples_split' = [2, 5, 10, 15, 100],\n",
    "    'min_samples_leaf' = [1, 2, 5, 10]\n",
    "}\n",
    "\n",
    "RC = RandomForestClassifier(random_state = 42)\n",
    "#bestParameters = findHyperparametersGS(trainCSV, labels, RC, param_grid, 5)"
   ]
  },
  {
   "cell_type": "markdown",
   "metadata": {},
   "source": []
  }
 ],
 "metadata": {
  "kernelspec": {
   "display_name": "Python 3",
   "language": "python",
   "name": "python3"
  },
  "language_info": {
   "codemirror_mode": {
    "name": "ipython",
    "version": 3
   },
   "file_extension": ".py",
   "mimetype": "text/x-python",
   "name": "python",
   "nbconvert_exporter": "python",
   "pygments_lexer": "ipython3",
   "version": "3.6.10"
  }
 },
 "nbformat": 4,
 "nbformat_minor": 4
}
